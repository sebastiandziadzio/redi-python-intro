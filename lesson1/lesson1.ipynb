{
 "cells": [
  {
   "cell_type": "markdown",
   "metadata": {
    "slideshow": {
     "slide_type": "slide"
    }
   },
   "source": [
    "# Welcome to the Python course!\n",
    "<img src=\"images/redi_logo.JPG\">"
   ]
  },
  {
   "cell_type": "markdown",
   "metadata": {
    "slideshow": {
     "slide_type": "slide"
    }
   },
   "source": [
    "# Teachers\n",
    "* Fjoralba\n",
    "* Heeren\n",
    "* Jose\n",
    "* Milla\n",
    "* Sebastian\n",
    "* Yinfu"
   ]
  },
  {
   "cell_type": "markdown",
   "metadata": {
    "slideshow": {
     "slide_type": "slide"
    }
   },
   "source": [
    "# Lesson 1\n",
    "\n",
    "1. What is a program?\n",
    "2. Course Objectives\n",
    "3. Python:\n",
    "    + Running your first program\n",
    "    + Writing your first program\n",
    "    + Python as a calculator\n",
    "    + Variables"
   ]
  },
  {
   "cell_type": "markdown",
   "metadata": {
    "collapsed": true,
    "slideshow": {
     "slide_type": "slide"
    }
   },
   "source": [
    "### What is a program?"
   ]
  },
  {
   "cell_type": "markdown",
   "metadata": {
    "slideshow": {
     "slide_type": "notes"
    }
   },
   "source": [
    "- Programs are not just about buttons and visable features\n",
    "- a lot of things are happening in the background\n",
    "- Try searching on Google, autocompletion? search results?\n",
    "- Youtube => how does it know what to recommend you when you open a video?"
   ]
  },
  {
   "cell_type": "markdown",
   "metadata": {
    "slideshow": {
     "slide_type": "slide"
    }
   },
   "source": [
    "### Programming languages \n",
    "\n",
    "<table>\n",
    "<tr  style='background-color:white'>\n",
    "<td><img src=\"images/java.png\"  style= 'display:inline;'> </td>\n",
    "<td><img src=\"images/c_plus.png\" style= 'display:inline;'> </td>\n",
    "<td><img src=\"images/python.jpeg\" style= 'display:inline;'> </td>\n",
    "\n",
    "<tr>\n",
    "</table>"
   ]
  },
  {
   "cell_type": "markdown",
   "metadata": {
    "slideshow": {
     "slide_type": "slide"
    }
   },
   "source": [
    "### Programming\n",
    "\n",
    "- Programming is just a tool\n",
    "- Problem solving skills are essential\n",
    "- Programming is used to implement *algorithms*\n",
    "- An algorithm is a step by step method to solve a problem, we use it all the time but we are not aware of it\n",
    "\n",
    "Examples?"
   ]
  },
  {
   "cell_type": "markdown",
   "metadata": {
    "slideshow": {
     "slide_type": "slide"
    }
   },
   "source": [
    "### By the end of this course\n",
    "\n",
    "1. Programming\n",
    "2. Implementing your own programs (project/mini projects)\n",
    "3. What you can do using programming? How to learn further?"
   ]
  },
  {
   "cell_type": "markdown",
   "metadata": {
    "slideshow": {
     "slide_type": "slide"
    }
   },
   "source": [
    "##  Why Python?\n",
    "### Easy language + Huge Capabilities + Online Support\n",
    "\n",
    "<table>\n",
    "<tr>\n",
    "<th>Python </th>\n",
    "<th> Java </th>\n",
    "<th>C++</th>\n",
    "<th>Ruby </th>\n",
    "</tr>\n",
    "<tr  style='background-color:white'>\n",
    "<td><img src=\"images/hello_world_python_.png\" style= 'display:inline;'> </td>\n",
    "<td><img src=\"images/hello_world_java.png\"  style= 'display:inline;'> </td>\n",
    "<td><img src=\"images/hello_world_c_plus.png\" style= 'display:inline;'> </td>\n",
    "<td><img src=\"images/hello_world_ruby.png\" style= 'display:inline;'> </td>\n",
    "</tr>\n",
    "</table>\n",
    "<table>\n",
    "<tr>\n",
    "<td>\n",
    "<img src=\"images/why_python.png\" style= 'display:inline;'>\n",
    "source: https://stackoverflow.blog/2017/09/06/incredible-growth-python/\n",
    "</td>\n",
    "</tr>\n",
    "</table>\n",
    "\n"
   ]
  },
  {
   "cell_type": "markdown",
   "metadata": {
    "slideshow": {
     "slide_type": "slide"
    }
   },
   "source": [
    "### Installing Python and PyCharm\n",
    "\n",
    "Python and PyCharm should already be installed (version 3.x)\n",
    "\n",
    "For this course we will be using PyCharm as the editor. There are other editors commonly used to write Python programs e.g. Sublime, Atom, vim etc."
   ]
  },
  {
   "cell_type": "markdown",
   "metadata": {
    "slideshow": {
     "slide_type": "notes"
    }
   },
   "source": [
    "For linux:\n",
    "    1. The download file has tar.gz (this is just a compressed file for linux)\n",
    "    2. Uncompress the file\n",
    "    3. Inside the extracted folder you will find bin folder which has a pycharmXXX.sh file\n",
    "    3. To open Pycharm you need to open terminal\n",
    "    4. type 'cd <path of bin folder inside pycharm folder>'\n",
    "    5. then type 'sh pycharmXXX.sh'\n",
    "\n"
   ]
  },
  {
   "cell_type": "markdown",
   "metadata": {
    "slideshow": {
     "slide_type": "slide"
    }
   },
   "source": [
    "## Running you first Python program"
   ]
  },
  {
   "cell_type": "code",
   "execution_count": 4,
   "metadata": {
    "collapsed": false,
    "slideshow": {
     "slide_type": "slide"
    }
   },
   "outputs": [
    {
     "name": "stdout",
     "output_type": "stream",
     "text": [
      "Hello, world!\n"
     ]
    }
   ],
   "source": [
    "print('Hello, world!')"
   ]
  },
  {
   "cell_type": "markdown",
   "metadata": {
    "slideshow": {
     "slide_type": "slide"
    }
   },
   "source": [
    "## Writing your first Python program\n",
    "\n",
    "Write a program that prints out your name "
   ]
  },
  {
   "cell_type": "markdown",
   "metadata": {
    "slideshow": {
     "slide_type": "slide"
    }
   },
   "source": [
    "### Using Python Shell\n",
    "- View -> Tool Windows -> Terminal -> type 'python'\n",
    "- There are different ways to run python code (python shell, running a file)"
   ]
  },
  {
   "cell_type": "markdown",
   "metadata": {
    "slideshow": {
     "slide_type": "slide"
    }
   },
   "source": [
    "### Using Python as a calculator\n",
    "- Operators: \n",
    "    - +\n",
    "    - - \n",
    "    - *\n",
    "    - /\n",
    "    - // \n",
    "    - %\n",
    "- Types: int vs float\n",
    "- Precedence"
   ]
  },
  {
   "cell_type": "markdown",
   "metadata": {
    "slideshow": {
     "slide_type": "slide"
    }
   },
   "source": [
    "### Errors\n",
    "- Syntax Errors\n",
    "<img src=\"images/syntax_error.png\" >\n",
    "- Semantic Errors\n",
    "<img src=\"images/semantic_error.png\">\n"
   ]
  },
  {
   "cell_type": "markdown",
   "metadata": {
    "slideshow": {
     "slide_type": "slide"
    }
   },
   "source": [
    "### Variables\n",
    "- For now anything we calculated is just printed\n",
    "- How to remember a value of an expression?\n",
    "- Similar to variables in math\n",
    "<img src=\"images/variables.png\">\n",
    "<img src=\"images/variables_named.png\">\n"
   ]
  },
  {
   "cell_type": "markdown",
   "metadata": {
    "collapsed": true,
    "slideshow": {
     "slide_type": "slide"
    }
   },
   "source": [
    "#### Example 2:\n",
    "You are in a country X and travelling to Germany next week. You have 100 dollars and you want to convert them to euros. You go to a currency exchange center and they tell you that they cannot convert it directly. They have to first convert the 100 dollars to currency X, and then convert it from currency X to euros. How many euros will you have in the end?\n",
    "\n",
    "\n",
    "- Exchange rate from dollars to currency X is 15\n",
    "\n",
    "- Exchange rate from currency X to euros is 0.05\n",
    "\n",
    "- Exchange rate from dollars to euros is 0.8\n",
    "\n"
   ]
  },
  {
   "cell_type": "code",
   "execution_count": null,
   "metadata": {
    "collapsed": true
   },
   "outputs": [],
   "source": []
  }
 ],
 "metadata": {
  "celltoolbar": "Slideshow",
  "kernelspec": {
   "display_name": "Python 3",
   "language": "python",
   "name": "python3"
  },
  "language_info": {
   "codemirror_mode": {
    "name": "ipython",
    "version": 3
   },
   "file_extension": ".py",
   "mimetype": "text/x-python",
   "name": "python",
   "nbconvert_exporter": "python",
   "pygments_lexer": "ipython3",
   "version": "3.5.2"
  }
 },
 "nbformat": 4,
 "nbformat_minor": 0
}
